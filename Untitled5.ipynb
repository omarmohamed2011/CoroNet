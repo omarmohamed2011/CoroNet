{
  "nbformat": 4,
  "nbformat_minor": 0,
  "metadata": {
    "colab": {
      "name": "Untitled5.ipynb",
      "provenance": [],
      "collapsed_sections": [],
      "include_colab_link": true
    },
    "kernelspec": {
      "name": "python3",
      "display_name": "Python 3"
    },
    "accelerator": "GPU"
  },
  "cells": [
    {
      "cell_type": "markdown",
      "metadata": {
        "id": "view-in-github",
        "colab_type": "text"
      },
      "source": [
        "<a href=\"https://colab.research.google.com/github/omarmohamed2011/CoroNet/blob/master/Untitled5.ipynb\" target=\"_parent\"><img src=\"https://colab.research.google.com/assets/colab-badge.svg\" alt=\"Open In Colab\"/></a>"
      ]
    },
    {
      "cell_type": "code",
      "metadata": {
        "colab": {
          "base_uri": "https://localhost:8080/"
        },
        "id": "E5OjBmByQyAW",
        "outputId": "ac2669bf-90d4-4025-8cb4-fe19705a636d"
      },
      "source": [
        "from google.colab import drive\r\n",
        "drive.mount('/content/drive')"
      ],
      "execution_count": 1,
      "outputs": [
        {
          "output_type": "stream",
          "text": [
            "Mounted at /content/drive\n"
          ],
          "name": "stdout"
        }
      ]
    },
    {
      "cell_type": "code",
      "metadata": {
        "id": "g4yJRyFZTyFr"
      },
      "source": [
        "from numpy.random import seed\r\n",
        "seed(8) #1\r\n",
        "\r\n",
        "import tensorflow\r\n",
        "tensorflow.random.set_seed(7)\r\n",
        "\r\n",
        "import numpy as np # linear algebra\r\n",
        "import pandas as pd # data processing, CSV file I/O (e.g. pd.read_csv)\r\n",
        "\r\n",
        "import os\r\n",
        "\r\n",
        "from tensorflow.keras import backend as K\r\n",
        "from tensorflow.keras.models import Model ,load_model\r\n",
        "from tensorflow.keras.layers import Flatten, Dense, Dropout\r\n",
        "from tensorflow.keras.applications.inception_resnet_v2 import InceptionResNetV2, preprocess_input\r\n",
        "from keras.applications.vgg16 import preprocess_input\r\n",
        "from keras.applications.vgg16 import decode_predictions\r\n",
        "from keras.applications.vgg16 import VGG16\r\n",
        "from tensorflow.keras.optimizers import Adam, RMSprop\r\n",
        "from tensorflow.keras.preprocessing.image import ImageDataGenerator\r\n",
        "from tensorflow.keras.callbacks import ModelCheckpoint\r\n",
        "import numpy as np\r\n",
        "import tensorflow as tf\r\n",
        "\r\n",
        "from tensorflow.python.keras import models\r\n",
        "from tensorflow.python.keras import layers\r\n",
        "\r\n",
        "from tensorflow.keras import optimizers"
      ],
      "execution_count": 6,
      "outputs": []
    },
    {
      "cell_type": "code",
      "metadata": {
        "colab": {
          "base_uri": "https://localhost:8080/"
        },
        "id": "0mM6_ufYT0vm",
        "outputId": "de003cba-592a-4ba9-c850-92435a85b1c6"
      },
      "source": [
        "print(os.listdir(\"/content/drive/MyDrive/four_classes\"))"
      ],
      "execution_count": 12,
      "outputs": [
        {
          "output_type": "stream",
          "text": [
            "['test', 'train']\n"
          ],
          "name": "stdout"
        }
      ]
    },
    {
      "cell_type": "code",
      "metadata": {
        "colab": {
          "base_uri": "https://localhost:8080/"
        },
        "id": "4qpCn--CUJxi",
        "outputId": "645d6d99-2b01-4dce-ab4e-b8a58aeccfec"
      },
      "source": [
        "ls /content/drive/MyDrive/four_classes/train"
      ],
      "execution_count": 15,
      "outputs": [
        {
          "output_type": "stream",
          "text": [
            "\u001b[0m\u001b[01;34mcovid\u001b[0m/  \u001b[01;34mnormal\u001b[0m/  \u001b[01;34mpneumonia_bacterial\u001b[0m/  \u001b[01;34mpneumonia_viral\u001b[0m/\n"
          ],
          "name": "stdout"
        }
      ]
    },
    {
      "cell_type": "code",
      "metadata": {
        "id": "Hy2ajtVxU2Jc",
        "colab": {
          "base_uri": "https://localhost:8080/"
        },
        "outputId": "59ccbef5-0319-4339-961f-cb2688873809"
      },
      "source": [
        "from os import listdir\r\n",
        "#data_list = listdir('/content/covid-19/four_classes/train')\r\n",
        "data_list = listdir('/content/drive/MyDrive/four_classes/train')\r\n",
        "\r\n",
        "#Delete some classes that may interfere\r\n",
        "\r\n",
        "print(len(data_list))\r\n",
        "\r\n",
        "#A= listdir('/content/drive/MyDrive/covid-19-dataset/covid_folds/Fold1/covid') + listdir('/content/drive/MyDrive/covid-19-dataset/covid_folds/Fold2/covid')\r\n",
        "#B= os.path.join('/content/drive/MyDrive/covid-19-dataset/covid_folds/training folds', 'A')\r\n",
        "#covid = listdir(B)\r\n",
        "#print(len(covid))\r\n",
        "\r\n",
        "DATASET_PATH  = '/content/drive/MyDrive/four_classes/train'\r\n",
        "test_dir =  '/content/drive/MyDrive/four_classes/test'\r\n",
        "IMAGE_SIZE    = (150, 150)\r\n",
        "NUM_CLASSES   = len(data_list)\r\n",
        "BATCH_SIZE    = 32  # try reducing batch size or freeze more layers if your GPU runs out of memory\r\n",
        "NUM_EPOCHS    = 80\r\n",
        "LEARNING_RATE = 0.0001\r\n",
        "\r\n",
        "\r\n",
        "\r\n",
        "#Train datagen here is a preprocessor\r\n",
        "train_datagen = ImageDataGenerator(rescale=1./255,\r\n",
        "                                   rotation_range=50,\r\n",
        "                                   featurewise_center = True,\r\n",
        "                                   featurewise_std_normalization = True,\r\n",
        "                                   width_shift_range=0.2,\r\n",
        "                                   height_shift_range=0.2,\r\n",
        "                                   shear_range=0.25,\r\n",
        "                                   zoom_range=0.1,\r\n",
        "                                   zca_whitening = True,\r\n",
        "                                   channel_shift_range = 20,\r\n",
        "                                   horizontal_flip = True ,\r\n",
        "                                   vertical_flip = True ,\r\n",
        "                                   validation_split = 0.2,\r\n",
        "                                   fill_mode='constant')\r\n",
        "\r\n",
        "\r\n",
        "\r\n",
        "# For multiclass use categorical n for binary use binary\r\n",
        "train_batches = train_datagen.flow_from_directory(DATASET_PATH,\r\n",
        "                                                  target_size=IMAGE_SIZE,\r\n",
        "                                                  shuffle=True,                                              \r\n",
        "                                                  batch_size=BATCH_SIZE,\r\n",
        "                                                  subset = \"training\",\r\n",
        "                                                  seed=42,\r\n",
        "                                                  class_mode=\"categorical\"   #For multiclass use categorical n for binary use binary\r\n",
        "                                                  )\r\n",
        "\r\n",
        "valid_batches = train_datagen.flow_from_directory(DATASET_PATH,\r\n",
        "                                                  target_size=IMAGE_SIZE,\r\n",
        "                                                  shuffle=True,\r\n",
        "                                                  batch_size=BATCH_SIZE,\r\n",
        "                                                  subset = \"validation\",\r\n",
        "                                                  seed=42,\r\n",
        "                                                  class_mode=\"categorical\"  #For multiclass use categorical n for binary use binary\r\n",
        "                                                  )\r\n"
      ],
      "execution_count": 65,
      "outputs": [
        {
          "output_type": "stream",
          "text": [
            "4\n",
            "Found 1119 images belonging to 4 classes.\n",
            "Found 277 images belonging to 4 classes.\n"
          ],
          "name": "stdout"
        },
        {
          "output_type": "stream",
          "text": [
            "/usr/local/lib/python3.6/dist-packages/keras_preprocessing/image/image_data_generator.py:342: UserWarning: This ImageDataGenerator specifies `zca_whitening` which overrides setting of`featurewise_std_normalization`.\n",
            "  warnings.warn('This ImageDataGenerator specifies '\n"
          ],
          "name": "stderr"
        }
      ]
    },
    {
      "cell_type": "code",
      "metadata": {
        "id": "KS-_bBFgYsgu"
      },
      "source": [
        "from tensorflow.keras.applications import Xception\r\n",
        "\r\n",
        "conv_base = Xception(weights='imagenet',\r\n",
        "                  include_top=False,\r\n",
        "                  input_shape=(150, 150, 3))\r\n",
        "conv_base.trainable = True\r\n",
        "\r\n",
        "model = models.Sequential()\r\n",
        "model.add(conv_base)\r\n",
        "\r\n",
        "model.add(layers.Flatten())\r\n",
        "model.add(layers.Dropout(0.5))\r\n",
        "model.add(layers.Dense(256, activation='relu'))\r\n",
        "model.add(layers.Dense(4, activation='softmax'))\r\n",
        "\r\n",
        "model.compile(loss='categorical_crossentropy',     #for multiclass use categorical_crossentropy\r\n",
        "              optimizer=optimizers.Adam(lr=LEARNING_RATE),\r\n",
        "              metrics=['acc'])"
      ],
      "execution_count": 66,
      "outputs": []
    },
    {
      "cell_type": "code",
      "metadata": {
        "id": "M93rfO62bKr_",
        "outputId": "55afb17b-7f5e-40b6-b3de-dfc65d2255a4",
        "colab": {
          "base_uri": "https://localhost:8080/"
        }
      },
      "source": [
        "print(model.summary())"
      ],
      "execution_count": 67,
      "outputs": [
        {
          "output_type": "stream",
          "text": [
            "Model: \"sequential_3\"\n",
            "_________________________________________________________________\n",
            "Layer (type)                 Output Shape              Param #   \n",
            "=================================================================\n",
            "xception (Functional)        (None, 5, 5, 2048)        20861480  \n",
            "_________________________________________________________________\n",
            "flatten_3 (Flatten)          (None, 51200)             0         \n",
            "_________________________________________________________________\n",
            "dropout_3 (Dropout)          (None, 51200)             0         \n",
            "_________________________________________________________________\n",
            "dense_6 (Dense)              (None, 256)               13107456  \n",
            "_________________________________________________________________\n",
            "dense_7 (Dense)              (None, 4)                 1028      \n",
            "=================================================================\n",
            "Total params: 33,969,964\n",
            "Trainable params: 33,915,436\n",
            "Non-trainable params: 54,528\n",
            "_________________________________________________________________\n",
            "None\n"
          ],
          "name": "stdout"
        }
      ]
    },
    {
      "cell_type": "code",
      "metadata": {
        "id": "w8YstwOLbORv",
        "colab": {
          "base_uri": "https://localhost:8080/"
        },
        "outputId": "eb3e787a-a0e3-4408-dbb2-9a9c58f50abb"
      },
      "source": [
        "print(len(train_batches))\r\n",
        "print(len(valid_batches))\r\n",
        "\r\n",
        "STEP_SIZE_TRAIN=train_batches.n//train_batches.batch_size\r\n",
        "STEP_SIZE_VALID=valid_batches.n//valid_batches.batch_size\r\n",
        "\r\n",
        "result=model.fit_generator(train_batches,\r\n",
        "                        steps_per_epoch =STEP_SIZE_TRAIN,\r\n",
        "                        validation_data = valid_batches,\r\n",
        "                        validation_steps = STEP_SIZE_VALID,\r\n",
        "                        epochs= NUM_EPOCHS-30,                        \r\n",
        "                       )"
      ],
      "execution_count": null,
      "outputs": [
        {
          "output_type": "stream",
          "text": [
            "35\n",
            "9\n"
          ],
          "name": "stdout"
        },
        {
          "output_type": "stream",
          "text": [
            "/usr/local/lib/python3.6/dist-packages/tensorflow/python/keras/engine/training.py:1844: UserWarning: `Model.fit_generator` is deprecated and will be removed in a future version. Please use `Model.fit`, which supports generators.\n",
            "  warnings.warn('`Model.fit_generator` is deprecated and '\n",
            "/usr/local/lib/python3.6/dist-packages/keras_preprocessing/image/image_data_generator.py:720: UserWarning: This ImageDataGenerator specifies `featurewise_center`, but it hasn't been fit on any training data. Fit it first by calling `.fit(numpy_data)`.\n",
            "  warnings.warn('This ImageDataGenerator specifies '\n",
            "/usr/local/lib/python3.6/dist-packages/keras_preprocessing/image/image_data_generator.py:739: UserWarning: This ImageDataGenerator specifies `zca_whitening`, but it hasn't been fit on any training data. Fit it first by calling `.fit(numpy_data)`.\n",
            "  warnings.warn('This ImageDataGenerator specifies '\n"
          ],
          "name": "stderr"
        },
        {
          "output_type": "stream",
          "text": [
            "Epoch 1/50\n",
            "34/34 [==============================] - 38s 963ms/step - loss: 1.3342 - acc: 0.4077 - val_loss: 0.8008 - val_acc: 0.6914\n",
            "Epoch 2/50\n",
            "34/34 [==============================] - 32s 923ms/step - loss: 0.5989 - acc: 0.7514 - val_loss: 0.8311 - val_acc: 0.7109\n",
            "Epoch 3/50\n",
            "34/34 [==============================] - 32s 933ms/step - loss: 0.4266 - acc: 0.8254 - val_loss: 0.6012 - val_acc: 0.7617\n",
            "Epoch 4/50\n",
            "34/34 [==============================] - 32s 924ms/step - loss: 0.4167 - acc: 0.8469 - val_loss: 0.7853 - val_acc: 0.7188\n",
            "Epoch 5/50\n",
            "34/34 [==============================] - 32s 929ms/step - loss: 0.3989 - acc: 0.8473 - val_loss: 0.7433 - val_acc: 0.7305\n",
            "Epoch 6/50\n",
            "34/34 [==============================] - 32s 940ms/step - loss: 0.3594 - acc: 0.8534 - val_loss: 0.7556 - val_acc: 0.7461\n",
            "Epoch 7/50\n",
            "34/34 [==============================] - 32s 935ms/step - loss: 0.3500 - acc: 0.8727 - val_loss: 0.8496 - val_acc: 0.6953\n",
            "Epoch 8/50\n",
            "34/34 [==============================] - 32s 938ms/step - loss: 0.3170 - acc: 0.8879 - val_loss: 1.0744 - val_acc: 0.6797\n",
            "Epoch 9/50\n",
            "34/34 [==============================] - 32s 935ms/step - loss: 0.3462 - acc: 0.8716 - val_loss: 0.9193 - val_acc: 0.6836\n",
            "Epoch 10/50\n",
            "34/34 [==============================] - 32s 931ms/step - loss: 0.2940 - acc: 0.8937 - val_loss: 0.6380 - val_acc: 0.8008\n",
            "Epoch 11/50\n",
            "34/34 [==============================] - 32s 933ms/step - loss: 0.2364 - acc: 0.9027 - val_loss: 0.8914 - val_acc: 0.7305\n",
            "Epoch 12/50\n",
            "34/34 [==============================] - 31s 926ms/step - loss: 0.2950 - acc: 0.8891 - val_loss: 0.7875 - val_acc: 0.7227\n",
            "Epoch 13/50\n",
            "34/34 [==============================] - 32s 924ms/step - loss: 0.2324 - acc: 0.9144 - val_loss: 1.0393 - val_acc: 0.7070\n",
            "Epoch 14/50\n",
            "34/34 [==============================] - 31s 925ms/step - loss: 0.2087 - acc: 0.9250 - val_loss: 0.7654 - val_acc: 0.7578\n",
            "Epoch 15/50\n",
            "34/34 [==============================] - 31s 919ms/step - loss: 0.1848 - acc: 0.9274 - val_loss: 0.5709 - val_acc: 0.8281\n",
            "Epoch 16/50\n",
            "34/34 [==============================] - 31s 922ms/step - loss: 0.2122 - acc: 0.9293 - val_loss: 0.5484 - val_acc: 0.8320\n",
            "Epoch 17/50\n",
            "34/34 [==============================] - 31s 917ms/step - loss: 0.2064 - acc: 0.9283 - val_loss: 0.4850 - val_acc: 0.8750\n",
            "Epoch 18/50\n",
            "34/34 [==============================] - 32s 931ms/step - loss: 0.1443 - acc: 0.9501 - val_loss: 0.5414 - val_acc: 0.8477\n",
            "Epoch 19/50\n",
            "34/34 [==============================] - 32s 948ms/step - loss: 0.1644 - acc: 0.9517 - val_loss: 0.4552 - val_acc: 0.8359\n",
            "Epoch 20/50\n",
            "34/34 [==============================] - 32s 950ms/step - loss: 0.2117 - acc: 0.9276 - val_loss: 0.5267 - val_acc: 0.8594\n",
            "Epoch 21/50\n",
            "15/34 [============>.................] - ETA: 14s - loss: 0.1804 - acc: 0.9495"
          ],
          "name": "stdout"
        }
      ]
    },
    {
      "cell_type": "code",
      "metadata": {
        "id": "Jtk1A4dU4wtd"
      },
      "source": [
        "model.save('4-class-Covid19-Mod-Xception3.h5')\r\n",
        "!cp /content/\"4-class-Covid19-Mod-Xception3.h5\" /content/drive/\"My Drive\"/\"four_classes\""
      ],
      "execution_count": 48,
      "outputs": []
    },
    {
      "cell_type": "code",
      "metadata": {
        "id": "Zf9yJVhZpu7g",
        "outputId": "0e0debbd-8eda-4e55-b78a-6253fa82ff73",
        "colab": {
          "base_uri": "https://localhost:8080/"
        }
      },
      "source": [
        "model=load_model('/content/drive/My Drive/four_classes/4-class-Covid19-Mod-Xception3.h5')\r\n",
        "print(model.summary())"
      ],
      "execution_count": 59,
      "outputs": [
        {
          "output_type": "stream",
          "text": [
            "Model: \"sequential_1\"\n",
            "_________________________________________________________________\n",
            "Layer (type)                 Output Shape              Param #   \n",
            "=================================================================\n",
            "xception (Functional)        (None, 5, 5, 2048)        20861480  \n",
            "_________________________________________________________________\n",
            "flatten_1 (Flatten)          (None, 51200)             0         \n",
            "_________________________________________________________________\n",
            "dropout_1 (Dropout)          (None, 51200)             0         \n",
            "_________________________________________________________________\n",
            "dense_2 (Dense)              (None, 256)               13107456  \n",
            "_________________________________________________________________\n",
            "dense_3 (Dense)              (None, 4)                 1028      \n",
            "=================================================================\n",
            "Total params: 33,969,964\n",
            "Trainable params: 33,915,436\n",
            "Non-trainable params: 54,528\n",
            "_________________________________________________________________\n",
            "None\n"
          ],
          "name": "stdout"
        }
      ]
    },
    {
      "cell_type": "code",
      "metadata": {
        "colab": {
          "base_uri": "https://localhost:8080/",
          "height": 341
        },
        "id": "O0g5y_w4TY53",
        "outputId": "9dc18e11-3061-4d4b-d43c-8208e03c4f9b"
      },
      "source": [
        "#Plot the accuracy and loss graphs\r\n",
        "\r\n",
        "import matplotlib.pyplot as plt\r\n",
        "\r\n",
        "\r\n",
        "def plot_acc_loss(result, epochs):\r\n",
        "    acc = result.history['acc']\r\n",
        "    loss = result.history['loss']\r\n",
        "    val_acc = result.history['val_acc']\r\n",
        "    val_loss = result.history['val_loss']\r\n",
        "    plt.figure(figsize=(15, 5))\r\n",
        "    plt.subplot(121)\r\n",
        "    plt.plot(range(1,epochs), acc[1:], label='Train_acc')\r\n",
        "    plt.plot(range(1,epochs), val_acc[1:], label='Val_acc')\r\n",
        "    plt.title('Accuracy over ' + str(epochs) + ' Epochs', size=15)\r\n",
        "    plt.legend()\r\n",
        "    plt.grid(True)\r\n",
        "    plt.subplot(122)\r\n",
        "    plt.plot(range(1,epochs), loss[1:], label='Train_loss')\r\n",
        "    plt.plot(range(1,epochs), val_loss[1:], label='Val_loss')\r\n",
        "    plt.title('Loss over ' + str(epochs) + ' Epochs', size=15)\r\n",
        "    plt.legend()\r\n",
        "    plt.grid(True)\r\n",
        "    plt.show()\r\n",
        "    \r\n",
        "plot_acc_loss(result, 80)"
      ],
      "execution_count": 60,
      "outputs": [
        {
          "output_type": "display_data",
          "data": {
            "image/png": "[encoded data removed]",
            "text/plain": [
              "<Figure size 1080x360 with 2 Axes>"
            ]
          },
          "metadata": {
            "tags": [],
            "needs_background": "light"
          }
        }
      ]
    },
    {
      "cell_type": "code",
      "metadata": {
        "colab": {
          "base_uri": "https://localhost:8080/"
        },
        "id": "QWSKLjlyUn8O",
        "outputId": "4c04068e-1062-47a5-8833-9c29101ae237"
      },
      "source": [
        "# Create evaluate data generator from test set\r\n",
        "#Dont forget shuffle false\r\n",
        "\r\n",
        "test_datagen = ImageDataGenerator(rescale=1. / 255)\r\n",
        "test_dir =  '/content/drive/MyDrive/four_classes/test'\r\n",
        "eval_generator = test_datagen.flow_from_directory(test_dir,target_size=IMAGE_SIZE,batch_size=1, \r\n",
        "                                                  shuffle=False, seed=42, class_mode=\"categorical\")\r\n",
        "eval_generator.reset()"
      ],
      "execution_count": 61,
      "outputs": [
        {
          "output_type": "stream",
          "text": [
            "Found 242 images belonging to 4 classes.\n"
          ],
          "name": "stdout"
        }
      ]
    },
    {
      "cell_type": "code",
      "metadata": {
        "colab": {
          "base_uri": "https://localhost:8080/"
        },
        "id": "5bLag5uuVTma",
        "outputId": "bf1f9491-a839-4a4f-a879-05bc0d0e5213"
      },
      "source": [
        "#Evalute the trained model on evaluate generator\r\n",
        "eval_generator.reset()  \r\n",
        "x = model.evaluate_generator(eval_generator,\r\n",
        "                           steps = np.ceil(len(eval_generator)), \r\n",
        "                           use_multiprocessing = False,\r\n",
        "                           verbose = 1,\r\n",
        "                           workers=1,\r\n",
        "                           )\r\n",
        "\r\n",
        "\r\n",
        "print('Test loss:' , x[0])\r\n",
        "print('Test accuracy:',x[1])\r\n",
        "\r\n",
        "#Poor test accuracy due to the small dataset size"
      ],
      "execution_count": 62,
      "outputs": [
        {
          "output_type": "stream",
          "text": [
            "/usr/local/lib/python3.6/dist-packages/tensorflow/python/keras/engine/training.py:1877: UserWarning: `Model.evaluate_generator` is deprecated and will be removed in a future version. Please use `Model.evaluate`, which supports generators.\n",
            "  warnings.warn('`Model.evaluate_generator` is deprecated and '\n"
          ],
          "name": "stderr"
        },
        {
          "output_type": "stream",
          "text": [
            "242/242 [==============================] - 5s 16ms/step - loss: 1.3766 - acc: 0.8223\n",
            "Test loss: 1.3765662908554077\n",
            "Test accuracy: 0.8223140239715576\n"
          ],
          "name": "stdout"
        }
      ]
    },
    {
      "cell_type": "code",
      "metadata": {
        "colab": {
          "base_uri": "https://localhost:8080/"
        },
        "id": "rI1nRGh-V8we",
        "outputId": "108b8b0e-c66a-49b6-cf88-e8047e87ddf4"
      },
      "source": [
        "IMAGE_SIZE    = (150, 150)\r\n",
        "test_datagen = ImageDataGenerator(rescale=1. / 255)\r\n",
        "test_dir =  '/content/drive/MyDrive/four_classes/test'\r\n",
        "pred_generator = test_datagen.flow_from_directory(\r\n",
        "        test_dir,target_size=IMAGE_SIZE,\r\n",
        "        batch_size=1,\r\n",
        "        shuffle=False,\r\n",
        "        \r\n",
        "        seed=42,\r\n",
        "        \r\n",
        "        class_mode=\"categorical\")\r\n",
        "pred_generator.reset()   \r\n",
        "\r\n",
        "count=[0,0,0,0]\r\n",
        "\r\n",
        "files=pred_generator.filenames\r\n",
        "\r\n",
        "for i in range(len(files)):\r\n",
        "  x,y = pred_generator.next()\r\n",
        "  img = x\r\n",
        "  predict=model.predict(img)\r\n",
        "  \r\n",
        "  p=np.argmax(predict, axis=-1)\r\n",
        "  print(str(p[0])+\" \"+files[pred_generator.batch_index-1])\r\n",
        "  #print(predict)\r\n",
        "  #p=model.predict_classes(img)\r\n",
        "  count[p[0]]+=1\r\n",
        "  \r\n",
        "#print(str(p[0])+\" \"+files[i]) \r\n",
        "print(count)"
      ],
      "execution_count": 63,
      "outputs": [
        {
          "output_type": "stream",
          "text": [
            "Found 242 images belonging to 4 classes.\n",
            "0 covid/SARS-10.1148rg.242035193-g04mr34g0-Fig8b-day5.jpeg\n",
            "0 covid/SARS-10.1148rg.242035193-g04mr34g07b-Fig7b-day12.jpeg\n",
            "0 covid/X-ray_of_cyst_in_pneumocystis_pneumonia_1.jpg\n",
            "0 covid/covid-19-pneumonia-41.jpg\n",
            "0 covid/covid-19-pneumonia-58-day-10.jpg\n",
            "0 covid/covid-19-pneumonia-67.jpeg\n",
            "0 covid/covid-19-pneumonia-evolution-over-a-week-1-day6.jpg\n",
            "0 covid/covid-19-pneumonia-rapidly-progressive-3-days.jpg\n",
            "0 covid/covid-19-rapidly-progressive-acute-respiratory-distress-syndrome-ards-day-2.jpg\n",
            "0 covid/covid-s3-55.jpeg\n",
            "0 covid/covid-s3-60.jpeg\n",
            "0 covid/figure1-5e75d0940b71e1b702629659-98-right.jpeg\n",
            "0 covid/figure1-5e7c1b8d98c29ab001275405-98-later.jpeg\n",
            "0 covid/jkms-35-e79-g001-l-c.jpg\n",
            "0 covid/pneumococcal-pneumonia-day0.jpg\n",
            "0 covid/pneumocystis-jirovecii-pneumonia-2.jpg\n",
            "0 covid/pneumocystis-pneumonia-2-L.png\n",
            "0 covid/post-intubuation-pneumomediastium-and-pneumothorax-background-covid-19-pneumonia-day1.jpg\n",
            "0 covid/streptococcus-pneumoniae-pneumonia-temporal-evolution-1-day0.jpg\n",
            "0 covid/wong-0003.jpg\n",
            "1 normal/IM-0003-0001.jpeg\n",
            "1 normal/IM-0005-0001.jpeg\n",
            "1 normal/IM-0006-0001.jpeg\n",
            "1 normal/IM-0009-0001.jpeg\n",
            "0 normal/IM-0011-0001-0002.jpeg\n",
            "0 normal/IM-0011-0001.jpeg\n",
            "0 normal/IM-0013-0001.jpeg\n",
            "3 normal/IM-0015-0001.jpeg\n",
            "1 normal/IM-0016-0001.jpeg\n",
            "0 normal/IM-0017-0001.jpeg\n",
            "1 normal/IM-0019-0001.jpeg\n",
            "0 normal/IM-0021-0001.jpeg\n",
            "3 normal/IM-0022-0001.jpeg\n",
            "1 normal/IM-0023-0001.jpeg\n",
            "1 normal/IM-0025-0001.jpeg\n",
            "1 normal/IM-0027-0001.jpeg\n",
            "1 normal/IM-0028-0001.jpeg\n",
            "0 normal/IM-0029-0001.jpeg\n",
            "1 normal/IM-0030-0001.jpeg\n",
            "1 normal/IM-0031-0001.jpeg\n",
            "0 normal/IM-0033-0001-0001.jpeg\n",
            "1 normal/IM-0033-0001-0002.jpeg\n",
            "3 normal/IM-0033-0001.jpeg\n",
            "1 normal/IM-0035-0001.jpeg\n",
            "0 normal/IM-0036-0001.jpeg\n",
            "0 normal/IM-0037-0001.jpeg\n",
            "0 normal/IM-0039-0001.jpeg\n",
            "0 normal/IM-0041-0001.jpeg\n",
            "0 normal/IM-0043-0001.jpeg\n",
            "1 normal/IM-0045-0001.jpeg\n",
            "1 normal/IM-0046-0001.jpeg\n",
            "1 normal/IM-0049-0001.jpeg\n",
            "1 normal/IM-0050-0001.jpeg\n",
            "1 normal/IM-0059-0001.jpeg\n",
            "1 normal/IM-0061-0001.jpeg\n",
            "1 normal/IM-0063-0001.jpeg\n",
            "1 normal/IM-0065-0001.jpeg\n",
            "1 normal/IM-0067-0001.jpeg\n",
            "1 normal/IM-0069-0001.jpeg\n",
            "1 normal/IM-0070-0001.jpeg\n",
            "1 normal/IM-0071-0001.jpeg\n",
            "1 normal/IM-0073-0001.jpeg\n",
            "1 normal/IM-0075-0001.jpeg\n",
            "1 normal/IM-0077-0001.jpeg\n",
            "1 normal/IM-0079-0001.jpeg\n",
            "1 normal/IM-0081-0001.jpeg\n",
            "1 normal/NORMAL2-IM-0341-0001.jpeg\n",
            "1 normal/NORMAL2-IM-0343-0001.jpeg\n",
            "1 normal/NORMAL2-IM-0345-0001.jpeg\n",
            "1 normal/NORMAL2-IM-0346-0001.jpeg\n",
            "1 normal/NORMAL2-IM-0347-0001.jpeg\n",
            "1 normal/NORMAL2-IM-0348-0001.jpeg\n",
            "1 normal/NORMAL2-IM-0349-0001.jpeg\n",
            "1 normal/NORMAL2-IM-0350-0001.jpeg\n",
            "1 normal/NORMAL2-IM-0351-0001.jpeg\n",
            "1 normal/NORMAL2-IM-0352-0001.jpeg\n",
            "1 normal/NORMAL2-IM-0353-0001.jpeg\n",
            "1 normal/NORMAL2-IM-0354-0001.jpeg\n",
            "1 normal/NORMAL2-IM-0357-0001.jpeg\n",
            "1 normal/NORMAL2-IM-0359-0001.jpeg\n",
            "1 normal/NORMAL2-IM-0360-0001.jpeg\n",
            "1 normal/NORMAL2-IM-0361-0001.jpeg\n",
            "1 normal/NORMAL2-IM-0362-0001.jpeg\n",
            "1 normal/NORMAL2-IM-0364-0001.jpeg\n",
            "1 normal/NORMAL2-IM-0366-0001.jpeg\n",
            "1 normal/NORMAL2-IM-0368-0001.jpeg\n",
            "1 normal/NORMAL2-IM-0369-0001.jpeg\n",
            "1 normal/NORMAL2-IM-0370-0001.jpeg\n",
            "1 normal/NORMAL2-IM-0372-0001.jpeg\n",
            "1 normal/NORMAL2-IM-0373-0001.jpeg\n",
            "1 normal/NORMAL2-IM-0374-0001-0001.jpeg\n",
            "3 normal/NORMAL2-IM-0374-0001-0002.jpeg\n",
            "1 normal/NORMAL2-IM-0374-0001.jpeg\n",
            "1 normal/NORMAL2-IM-0376-0001.jpeg\n",
            "1 normal/NORMAL2-IM-0378-0001.jpeg\n",
            "1 normal/NORMAL2-IM-0380-0001.jpeg\n",
            "1 normal/NORMAL2-IM-0381-0001.jpeg\n",
            "2 pneumonia_bacterial/person141_bacteria_677.jpeg\n",
            "2 pneumonia_bacterial/person141_bacteria_678.jpeg\n",
            "2 pneumonia_bacterial/person141_bacteria_681.jpeg\n",
            "2 pneumonia_bacterial/person142_bacteria_682.jpeg\n",
            "2 pneumonia_bacterial/person142_bacteria_683.jpeg\n",
            "2 pneumonia_bacterial/person142_bacteria_684.jpeg\n",
            "2 pneumonia_bacterial/person143_bacteria_687.jpeg\n",
            "3 pneumonia_bacterial/person143_bacteria_688.jpeg\n",
            "2 pneumonia_bacterial/person143_bacteria_689.jpeg\n",
            "3 pneumonia_bacterial/person144_bacteria_690.jpeg\n",
            "2 pneumonia_bacterial/person145_bacteria_696.jpeg\n",
            "2 pneumonia_bacterial/person146_bacteria_700.jpeg\n",
            "2 pneumonia_bacterial/person146_bacteria_703.jpeg\n",
            "2 pneumonia_bacterial/person146_bacteria_704.jpeg\n",
            "2 pneumonia_bacterial/person147_bacteria_705.jpeg\n",
            "2 pneumonia_bacterial/person147_bacteria_706.jpeg\n",
            "2 pneumonia_bacterial/person171_bacteria_826.jpeg\n",
            "3 pneumonia_bacterial/person172_bacteria_827.jpeg\n",
            "1 pneumonia_bacterial/person172_bacteria_828.jpeg\n",
            "2 pneumonia_bacterial/person173_bacteria_829.jpeg\n",
            "2 pneumonia_bacterial/person173_bacteria_830.jpeg\n",
            "2 pneumonia_bacterial/person173_bacteria_831.jpeg\n",
            "3 pneumonia_bacterial/person174_bacteria_832.jpeg\n",
            "2 pneumonia_bacterial/person175_bacteria_833.jpeg\n",
            "2 pneumonia_bacterial/person175_bacteria_834.jpeg\n",
            "3 pneumonia_bacterial/person175_bacteria_835.jpeg\n",
            "2 pneumonia_bacterial/person75_bacteria_368.jpeg\n",
            "2 pneumonia_bacterial/person75_bacteria_369.jpeg\n",
            "3 pneumonia_bacterial/person76_bacteria_370.jpeg\n",
            "2 pneumonia_bacterial/person76_bacteria_371.jpeg\n",
            "1 pneumonia_bacterial/person76_bacteria_372.jpeg\n",
            "2 pneumonia_bacterial/person77_bacteria_374.jpeg\n",
            "2 pneumonia_bacterial/person77_bacteria_375.jpeg\n",
            "2 pneumonia_bacterial/person77_bacteria_376.jpeg\n",
            "3 pneumonia_bacterial/person77_bacteria_377.jpeg\n",
            "2 pneumonia_bacterial/person80_bacteria_389.jpeg\n",
            "2 pneumonia_bacterial/person80_bacteria_390.jpeg\n",
            "2 pneumonia_bacterial/person80_bacteria_391.jpeg\n",
            "2 pneumonia_bacterial/person80_bacteria_392.jpeg\n",
            "2 pneumonia_bacterial/person80_bacteria_393.jpeg\n",
            "2 pneumonia_bacterial/person81_bacteria_395.jpeg\n",
            "3 pneumonia_bacterial/person81_bacteria_396.jpeg\n",
            "3 pneumonia_bacterial/person81_bacteria_397.jpeg\n",
            "3 pneumonia_bacterial/person81_bacteria_398.jpeg\n",
            "2 pneumonia_bacterial/person82_bacteria_402.jpeg\n",
            "3 pneumonia_bacterial/person82_bacteria_403.jpeg\n",
            "2 pneumonia_bacterial/person82_bacteria_404.jpeg\n",
            "2 pneumonia_bacterial/person82_bacteria_405.jpeg\n",
            "2 pneumonia_bacterial/person83_bacteria_407.jpeg\n",
            "2 pneumonia_bacterial/person83_bacteria_409.jpeg\n",
            "2 pneumonia_bacterial/person83_bacteria_410.jpeg\n",
            "2 pneumonia_bacterial/person83_bacteria_411.jpeg\n",
            "2 pneumonia_bacterial/person83_bacteria_412.jpeg\n",
            "2 pneumonia_bacterial/person83_bacteria_414.jpeg\n",
            "2 pneumonia_bacterial/person85_bacteria_417.jpeg\n",
            "2 pneumonia_bacterial/person85_bacteria_419.jpeg\n",
            "2 pneumonia_bacterial/person85_bacteria_421.jpeg\n",
            "3 pneumonia_bacterial/person85_bacteria_422.jpeg\n",
            "2 pneumonia_bacterial/person85_bacteria_423.jpeg\n",
            "2 pneumonia_bacterial/person85_bacteria_424.jpeg\n",
            "2 pneumonia_bacterial/person86_bacteria_428.jpeg\n",
            "2 pneumonia_bacterial/person86_bacteria_429.jpeg\n",
            "2 pneumonia_bacterial/person87_bacteria_433.jpeg\n",
            "2 pneumonia_bacterial/person87_bacteria_434.jpeg\n",
            "3 pneumonia_bacterial/person88_bacteria_437.jpeg\n",
            "2 pneumonia_bacterial/person88_bacteria_438.jpeg\n",
            "2 pneumonia_bacterial/person88_bacteria_439.jpeg\n",
            "2 pneumonia_bacterial/person89_bacteria_440.jpeg\n",
            "2 pneumonia_bacterial/person90_bacteria_442.jpeg\n",
            "3 pneumonia_bacterial/person90_bacteria_443.jpeg\n",
            "2 pneumonia_bacterial/person91_bacteria_445.jpeg\n",
            "2 pneumonia_bacterial/person91_bacteria_446.jpeg\n",
            "2 pneumonia_bacterial/person91_bacteria_447.jpeg\n",
            "2 pneumonia_bacterial/person91_bacteria_448.jpeg\n",
            "2 pneumonia_bacterial/person91_bacteria_449.jpeg\n",
            "3 pneumonia_viral/person10_virus_35.jpeg\n",
            "3 pneumonia_viral/person11_virus_38.jpeg\n",
            "3 pneumonia_viral/person14_virus_44.jpeg\n",
            "2 pneumonia_viral/person15_virus_46.jpeg\n",
            "3 pneumonia_viral/person1647_virus_2848.jpeg\n",
            "3 pneumonia_viral/person1649_virus_2850.jpeg\n",
            "3 pneumonia_viral/person1650_virus_2852.jpeg\n",
            "3 pneumonia_viral/person1650_virus_2854.jpeg\n",
            "3 pneumonia_viral/person1651_virus_2855.jpeg\n",
            "3 pneumonia_viral/person1653_virus_2858.jpeg\n",
            "3 pneumonia_viral/person1653_virus_2859.jpeg\n",
            "3 pneumonia_viral/person1655_virus_2861.jpeg\n",
            "3 pneumonia_viral/person1656_virus_2862.jpeg\n",
            "3 pneumonia_viral/person1657_virus_2864.jpeg\n",
            "3 pneumonia_viral/person1659_virus_2867.jpeg\n",
            "3 pneumonia_viral/person1660_virus_2869.jpeg\n",
            "3 pneumonia_viral/person1661_virus_2872.jpeg\n",
            "3 pneumonia_viral/person1661_virus_2873.jpeg\n",
            "3 pneumonia_viral/person1662_virus_2875.jpeg\n",
            "3 pneumonia_viral/person1663_virus_2876.jpeg\n",
            "3 pneumonia_viral/person1664_virus_2877.jpeg\n",
            "3 pneumonia_viral/person1665_virus_2878.jpeg\n",
            "3 pneumonia_viral/person1667_virus_2881.jpeg\n",
            "3 pneumonia_viral/person1668_virus_2882.jpeg\n",
            "3 pneumonia_viral/person1669_virus_2884.jpeg\n",
            "3 pneumonia_viral/person1669_virus_2885.jpeg\n",
            "3 pneumonia_viral/person1670_virus_2886.jpeg\n",
            "3 pneumonia_viral/person1671_virus_2887.jpeg\n",
            "3 pneumonia_viral/person1672_virus_2888.jpeg\n",
            "3 pneumonia_viral/person1673_virus_2889.jpeg\n",
            "3 pneumonia_viral/person1674_virus_2890.jpeg\n",
            "3 pneumonia_viral/person1675_virus_2891.jpeg\n",
            "3 pneumonia_viral/person1676_virus_2892.jpeg\n",
            "3 pneumonia_viral/person1678_virus_2895.jpeg\n",
            "3 pneumonia_viral/person1679_virus_2896.jpeg\n",
            "3 pneumonia_viral/person1680_virus_2897.jpeg\n",
            "3 pneumonia_viral/person1682_virus_2899.jpeg\n",
            "3 pneumonia_viral/person1685_virus_2903.jpeg\n",
            "0 pneumonia_viral/person16_virus_47.jpeg\n",
            "3 pneumonia_viral/person17_virus_48.jpeg\n",
            "2 pneumonia_viral/person18_virus_49.jpeg\n",
            "3 pneumonia_viral/person19_virus_50.jpeg\n",
            "2 pneumonia_viral/person1_virus_11.jpeg\n",
            "2 pneumonia_viral/person1_virus_12.jpeg\n",
            "3 pneumonia_viral/person1_virus_13.jpeg\n",
            "2 pneumonia_viral/person1_virus_6.jpeg\n",
            "3 pneumonia_viral/person1_virus_7.jpeg\n",
            "2 pneumonia_viral/person1_virus_8.jpeg\n",
            "2 pneumonia_viral/person1_virus_9.jpeg\n",
            "3 pneumonia_viral/person20_virus_51.jpeg\n",
            "3 pneumonia_viral/person21_virus_52.jpeg\n",
            "1 pneumonia_viral/person21_virus_53.jpeg\n",
            "3 pneumonia_viral/person22_virus_54.jpeg\n",
            "3 pneumonia_viral/person22_virus_55.jpeg\n",
            "3 pneumonia_viral/person23_virus_56.jpeg\n",
            "3 pneumonia_viral/person24_virus_58.jpeg\n",
            "3 pneumonia_viral/person25_virus_59.jpeg\n",
            "3 pneumonia_viral/person26_virus_60.jpeg\n",
            "3 pneumonia_viral/person28_virus_62.jpeg\n",
            "3 pneumonia_viral/person28_virus_63.jpeg\n",
            "3 pneumonia_viral/person29_virus_64.jpeg\n",
            "3 pneumonia_viral/person30_virus_69.jpeg\n",
            "3 pneumonia_viral/person31_virus_70.jpeg\n",
            "3 pneumonia_viral/person32_virus_71.jpeg\n",
            "3 pneumonia_viral/person33_virus_72.jpeg\n",
            "3 pneumonia_viral/person3_virus_15.jpeg\n",
            "3 pneumonia_viral/person3_virus_16.jpeg\n",
            "1 pneumonia_viral/person3_virus_17.jpeg\n",
            "2 pneumonia_viral/person8_virus_27.jpeg\n",
            "3 pneumonia_viral/person8_virus_28.jpeg\n",
            "[33, 65, 67, 77]\n"
          ],
          "name": "stdout"
        }
      ]
    },
    {
      "cell_type": "code",
      "metadata": {
        "colab": {
          "base_uri": "https://localhost:8080/",
          "height": 610
        },
        "id": "wPGYLFuIYOkX",
        "outputId": "97578ed1-dcfc-4578-9157-b1d7e189d895"
      },
      "source": [
        "from sklearn.metrics import confusion_matrix\r\n",
        "from sklearn.metrics import plot_confusion_matrix\r\n",
        "from sklearn.metrics import classification_report\r\n",
        "\r\n",
        "\r\n",
        "\r\n",
        "filenames = eval_generator.filenames\r\n",
        "nb_samples = len(filenames)\r\n",
        "eval_generator.reset()  \r\n",
        "predict = model.predict_generator(eval_generator,steps = np.ceil(len(eval_generator)))\r\n",
        "pp=predict\r\n",
        "predict=np.argmax(predict, axis=-1)\r\n",
        "classes= eval_generator.classes[eval_generator.index_array]\r\n",
        "acc=sum(predict==classes)/len(predict)\r\n",
        "names=[\"covid\",\"normal\",\"pneumonia_bac\",\"pneumonia_vir\"]\r\n",
        "\r\n",
        "font = {\r\n",
        "'family': 'Times New Roman',\r\n",
        "'size': 12\r\n",
        "}\r\n",
        "plt.rc('font', **font)\r\n",
        "cm = confusion_matrix(classes, predict)\r\n",
        "print(cm)\r\n",
        "print(classification_report(classes,predict))\r\n",
        "plt.imshow(cm, cmap=plt.cm.Blues)\r\n",
        "plt.xlabel('Predicted labels \\nAccuracy: {:0.2f}'.format(acc*100))\r\n",
        "plt.ylabel(\"True labels\")\r\n",
        "plt.xticks(classes, [])\r\n",
        "plt.yticks(classes, [])\r\n",
        "plt.title('Confusion matrix ')\r\n",
        "plt.colorbar()\r\n",
        "plt.show()"
      ],
      "execution_count": 64,
      "outputs": [
        {
          "output_type": "stream",
          "text": [
            "/usr/local/lib/python3.6/dist-packages/tensorflow/python/keras/engine/training.py:1905: UserWarning: `Model.predict_generator` is deprecated and will be removed in a future version. Please use `Model.predict`, which supports generators.\n",
            "  warnings.warn('`Model.predict_generator` is deprecated and '\n"
          ],
          "name": "stderr"
        },
        {
          "output_type": "stream",
          "text": [
            "[[20  0  0  0]\n",
            " [12 61  0  4]\n",
            " [ 0  2 59 14]\n",
            " [ 1  2  8 59]]\n",
            "              precision    recall  f1-score   support\n",
            "\n",
            "           0       0.61      1.00      0.75        20\n",
            "           1       0.94      0.79      0.86        77\n",
            "           2       0.88      0.79      0.83        75\n",
            "           3       0.77      0.84      0.80        70\n",
            "\n",
            "    accuracy                           0.82       242\n",
            "   macro avg       0.80      0.86      0.81       242\n",
            "weighted avg       0.84      0.82      0.83       242\n",
            "\n"
          ],
          "name": "stdout"
        },
        {
          "output_type": "display_data",
          "data": {
            "image/png": "[encoded data removed]",
            "text/plain": [
              "<Figure size 432x288 with 2 Axes>"
            ]
          },
          "metadata": {
            "tags": [],
            "needs_background": "light"
          }
        }
      ]
    },
    {
      "cell_type": "code",
      "metadata": {
        "id": "1OUMR5bceX_K"
      },
      "source": [
        ""
      ],
      "execution_count": null,
      "outputs": []
    }
  ]
}